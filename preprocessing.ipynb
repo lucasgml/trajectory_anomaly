{
 "cells": [
  {
   "cell_type": "markdown",
   "metadata": {},
   "source": [
    "## Importing libraries"
   ]
  },
  {
   "cell_type": "code",
   "execution_count": 1,
   "metadata": {},
   "outputs": [],
   "source": [
    "import os\n",
    "import glob\n",
    "import pandas as pd\n",
    "import numpy as np"
   ]
  },
  {
   "cell_type": "markdown",
   "metadata": {},
   "source": [
    "### Reading data files"
   ]
  },
  {
   "cell_type": "code",
   "execution_count": 2,
   "metadata": {},
   "outputs": [],
   "source": [
    "data = []\n",
    "for f1,f2,f3 in os.walk(\"../Downloads/Geolife Trajectories 1.3/Geolife Trajectories 1.3/Data/\"):\n",
    "    for p in f3:\n",
    "        if(p.endswith(\".plt\")):\n",
    "            data.append(np.genfromtxt(os.path.join(f1,p),delimiter=',',skip_header=6,dtype=np.object))"
   ]
  },
  {
   "cell_type": "markdown",
   "metadata": {},
   "source": [
    "### Columns: \"Latitude\",\"Longitude\",\"Zeros\",\"Altitude\",\"DateInDays\",\"DateString\",\"TimeString\"\n",
    "#### Selecting only trajectories with more than 30 entries"
   ]
  },
  {
   "cell_type": "code",
   "execution_count": 3,
   "metadata": {},
   "outputs": [
    {
     "data": {
      "text/plain": [
       "4908"
      ]
     },
     "execution_count": 3,
     "metadata": {},
     "output_type": "execute_result"
    }
   ],
   "source": [
    "l = [d for d in data if d.shape[0] > 30]\n",
    "len(l)"
   ]
  },
  {
   "cell_type": "markdown",
   "metadata": {},
   "source": [
    "### Creating trajectory windows composed by 30 entries each"
   ]
  },
  {
   "cell_type": "code",
   "execution_count": 4,
   "metadata": {},
   "outputs": [],
   "source": [
    "sequences = []\n",
    "for arq in l:\n",
    "    for i in range(0,int(arq.shape[0]/30)):\n",
    "        sequences.append(arq[i*30:(i*30)+30])"
   ]
  },
  {
   "cell_type": "markdown",
   "metadata": {},
   "source": [
    "### Checking results"
   ]
  },
  {
   "cell_type": "code",
   "execution_count": 5,
   "metadata": {},
   "outputs": [
    {
     "name": "stdout",
     "output_type": "stream",
     "text": [
      "[b'39.984621' b'116.313941' b'0' b'121' b'39744.1219328704' b'2008-10-23'\n",
      " b'02:55:35']\n",
      "[b'39.984621' b'116.313941' b'0' b'121' b'39744.1219328704' b'2008-10-23'\n",
      " b'02:55:35']\n"
     ]
    }
   ],
   "source": [
    "print(sequences[1][0])\n",
    "print(l[0][30])"
   ]
  },
  {
   "cell_type": "markdown",
   "metadata": {},
   "source": [
    "### Verifying if the take funcion is capturing only useful columns"
   ]
  },
  {
   "cell_type": "code",
   "execution_count": 6,
   "metadata": {},
   "outputs": [
    {
     "data": {
      "text/plain": [
       "array([b'39.984702', b'116.318417', b'492', b'39744.1201851852'],\n",
       "      dtype=object)"
      ]
     },
     "execution_count": 6,
     "metadata": {},
     "output_type": "execute_result"
    }
   ],
   "source": [
    "np.take(sequences[0][0],[0,1,3,4])"
   ]
  },
  {
   "cell_type": "markdown",
   "metadata": {},
   "source": [
    "### Discarding unnecessary columns"
   ]
  },
  {
   "cell_type": "code",
   "execution_count": 7,
   "metadata": {},
   "outputs": [],
   "source": [
    "useful = []\n",
    "for s in sequences:\n",
    "    traj = []\n",
    "    for t in s:\n",
    "        traj.append(np.take(t,[0,1,3,4]))\n",
    "    useful.append(np.array(traj))"
   ]
  },
  {
   "cell_type": "markdown",
   "metadata": {},
   "source": [
    "### Model-ready dataset"
   ]
  },
  {
   "cell_type": "code",
   "execution_count": 8,
   "metadata": {},
   "outputs": [
    {
     "data": {
      "text/plain": [
       "285211"
      ]
     },
     "execution_count": 8,
     "metadata": {},
     "output_type": "execute_result"
    }
   ],
   "source": [
    "len(useful)"
   ]
  },
  {
   "cell_type": "code",
   "execution_count": 9,
   "metadata": {},
   "outputs": [],
   "source": [
    "useful = np.array(useful,dtype=np.float32)"
   ]
  },
  {
   "cell_type": "code",
   "execution_count": 10,
   "metadata": {},
   "outputs": [],
   "source": [
    "useful[0][0]\n",
    "data_array = []\n",
    "for r1 in useful:\n",
    "    for r2 in r1:\n",
    "        data_array.append(r2)\n",
    "data_array = np.array(data_array)"
   ]
  },
  {
   "cell_type": "markdown",
   "metadata": {},
   "source": [
    "### Applying MinMax Scaler on features to improve model performance"
   ]
  },
  {
   "cell_type": "code",
   "execution_count": 11,
   "metadata": {},
   "outputs": [],
   "source": [
    "from sklearn.preprocessing import MinMaxScaler"
   ]
  },
  {
   "cell_type": "code",
   "execution_count": 12,
   "metadata": {},
   "outputs": [],
   "source": [
    "mm = MinMaxScaler()\n",
    "scaled_data = mm.fit_transform(data_array)"
   ]
  },
  {
   "cell_type": "markdown",
   "metadata": {},
   "source": [
    "### Storing preprocessed data into a file"
   ]
  },
  {
   "cell_type": "code",
   "execution_count": 13,
   "metadata": {},
   "outputs": [
    {
     "data": {
      "text/plain": [
       "array([[0.0570538 , 0.75224483, 0.23634978, 0.31873703],\n",
       "       [0.05705375, 0.7522453 , 0.23634978, 0.31873703],\n",
       "       [0.05705376, 0.75224483, 0.23634978, 0.31873703],\n",
       "       ...,\n",
       "       [0.05704658, 0.75206816, 0.23501602, 0.42152977],\n",
       "       [0.05704621, 0.7520684 , 0.23503958, 0.42152977],\n",
       "       [0.05704588, 0.75206816, 0.23506312, 0.42152977]], dtype=float32)"
      ]
     },
     "execution_count": 13,
     "metadata": {},
     "output_type": "execute_result"
    }
   ],
   "source": [
    "scaled_data"
   ]
  },
  {
   "cell_type": "code",
   "execution_count": 14,
   "metadata": {},
   "outputs": [],
   "source": [
    "np.savetxt(\"preprocessed_Data.csv\",scaled_data,delimiter=',')"
   ]
  },
  {
   "cell_type": "code",
   "execution_count": null,
   "metadata": {},
   "outputs": [],
   "source": []
  }
 ],
 "metadata": {
  "kernelspec": {
   "display_name": "Python 3",
   "language": "python",
   "name": "python3"
  },
  "language_info": {
   "codemirror_mode": {
    "name": "ipython",
    "version": 3
   },
   "file_extension": ".py",
   "mimetype": "text/x-python",
   "name": "python",
   "nbconvert_exporter": "python",
   "pygments_lexer": "ipython3",
   "version": "3.8.3"
  }
 },
 "nbformat": 4,
 "nbformat_minor": 4
}
