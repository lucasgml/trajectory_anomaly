{
 "cells": [
  {
   "cell_type": "markdown",
   "metadata": {},
   "source": [
    "### Reading data"
   ]
  },
  {
   "cell_type": "code",
   "execution_count": 1,
   "metadata": {},
   "outputs": [],
   "source": [
    "import numpy as np\n",
    "import matplotlib.pyplot as plt\n",
    "import seaborn as sns"
   ]
  },
  {
   "cell_type": "code",
   "execution_count": 7,
   "metadata": {},
   "outputs": [],
   "source": [
    "data = np.loadtxt('preprocessed_Data.csv',delimiter=\",\")"
   ]
  },
  {
   "cell_type": "code",
   "execution_count": 8,
   "metadata": {},
   "outputs": [],
   "source": [
    "prepared_data = []\n",
    "for i in range(0,data.shape[0],30):\n",
    "    prepared_data.append(data[i:i+30])\n",
    "prepared_data = np.array(prepared_data)"
   ]
  },
  {
   "cell_type": "code",
   "execution_count": 17,
   "metadata": {},
   "outputs": [],
   "source": [
    "data_train = np.loadtxt('preprocessed_Data_train.csv',delimiter=\",\")\n",
    "data_test = np.loadtxt('preprocessed_Data_test.csv',delimiter=\",\")"
   ]
  },
  {
   "cell_type": "code",
   "execution_count": 18,
   "metadata": {},
   "outputs": [],
   "source": [
    "prepared_data_train, prepared_data_test = [],[]\n",
    "for i in range(0,data_train.shape[0],30):\n",
    "    prepared_data_train.append(data_train[i:i+30])\n",
    "\n",
    "for i in range(0,data_test.shape[0],30):\n",
    "    prepared_data_test.append(data_test[i:i+30])\n",
    "\n",
    "prepared_data_train = np.array(prepared_data_train)\n",
    "prepared_data_test = np.array(prepared_data_test)"
   ]
  },
  {
   "cell_type": "code",
   "execution_count": 19,
   "metadata": {},
   "outputs": [
    {
     "data": {
      "text/plain": [
       "(30101, 30, 4)"
      ]
     },
     "execution_count": 19,
     "metadata": {},
     "output_type": "execute_result"
    }
   ],
   "source": [
    "prepared_data_train.shape"
   ]
  },
  {
   "cell_type": "markdown",
   "metadata": {},
   "source": [
    "## Building the model"
   ]
  },
  {
   "cell_type": "code",
   "execution_count": 20,
   "metadata": {},
   "outputs": [],
   "source": [
    "import tensorflow\n",
    "from tensorflow.keras.models import Sequential\n",
    "from tensorflow.keras.layers import LSTM\n",
    "from tensorflow.keras.layers import Dense\n",
    "from tensorflow.keras.layers import TimeDistributed"
   ]
  },
  {
   "cell_type": "code",
   "execution_count": 21,
   "metadata": {},
   "outputs": [],
   "source": [
    "def encoder(model):\n",
    "    model.add(LSTM(15, activation='relu', return_sequences=True, input_shape=(prepared_data_train.shape[1], prepared_data_train.shape[2])))\n",
    "    model.add(LSTM(10, activation='relu', return_sequences=True))\n",
    "    model.add(LSTM(5, activation='relu', return_sequences=True))\n",
    "    return model\n",
    "\n",
    "def decoder(model):\n",
    "    model.add(LSTM(5, activation='relu', return_sequences=True))\n",
    "    model.add(LSTM(10, activation='relu', return_sequences=True))\n",
    "    model.add(LSTM(15, activation='relu', return_sequences=True))\n",
    "    model.add(TimeDistributed(Dense(4)))\n",
    "    return model"
   ]
  },
  {
   "cell_type": "markdown",
   "metadata": {},
   "source": [
    "### Model execution"
   ]
  },
  {
   "cell_type": "code",
   "execution_count": 22,
   "metadata": {},
   "outputs": [
    {
     "name": "stdout",
     "output_type": "stream",
     "text": [
      "Epoch 1/10\n",
      "941/941 [==============================] - 31s 28ms/step - loss: 0.1050\n",
      "Epoch 2/10\n",
      "941/941 [==============================] - 27s 29ms/step - loss: 0.0078\n",
      "Epoch 3/10\n",
      "941/941 [==============================] - 28s 30ms/step - loss: 0.0071\n",
      "Epoch 4/10\n",
      "941/941 [==============================] - 26s 28ms/step - loss: 0.0024\n",
      "Epoch 5/10\n",
      "941/941 [==============================] - 27s 29ms/step - loss: 0.0015\n",
      "Epoch 6/10\n",
      "941/941 [==============================] - 26s 28ms/step - loss: 0.0013\n",
      "Epoch 7/10\n",
      "941/941 [==============================] - 26s 28ms/step - loss: 0.0011\n",
      "Epoch 8/10\n",
      "941/941 [==============================] - 26s 28ms/step - loss: 0.0011\n",
      "Epoch 9/10\n",
      "941/941 [==============================] - 26s 28ms/step - loss: 8.7521e-04\n",
      "Epoch 10/10\n",
      "941/941 [==============================] - 26s 28ms/step - loss: 8.5095e-04\n"
     ]
    }
   ],
   "source": [
    "with tensorflow.device(\"/cpu:0\"):\n",
    "    model = Sequential()\n",
    "    enc_model = encoder(model)\n",
    "    dec_model = decoder(enc_model)\n",
    "    dec_model.compile(optimizer='adam', loss='mse')\n",
    "    # fit model\n",
    "    dec_model.fit(prepared_data_train, prepared_data_train, epochs=10, verbose=1)"
   ]
  },
  {
   "cell_type": "markdown",
   "metadata": {},
   "source": [
    "### Autoencoder evaluation"
   ]
  },
  {
   "cell_type": "code",
   "execution_count": 23,
   "metadata": {},
   "outputs": [
    {
     "name": "stdout",
     "output_type": "stream",
     "text": [
      "[[[0.8786361  0.87531936 0.3060601  0.302039  ]\n",
      "  [0.8751392  0.8790767  0.29921648 0.26462492]\n",
      "  [0.88559765 0.88419914 0.3058384  0.23429248]\n",
      "  [0.8846537  0.8825524  0.31080335 0.2155838 ]\n",
      "  [0.8919794  0.88716865 0.31414747 0.20943072]\n",
      "  [0.8970141  0.88897276 0.31489936 0.20834301]\n",
      "  [0.8988952  0.8888737  0.31437486 0.20880152]\n",
      "  [0.8992146  0.88820577 0.31368864 0.20988713]\n",
      "  [0.89914644 0.8875593  0.3131855  0.2111451 ]\n",
      "  [0.898957   0.8870814  0.31299174 0.2130038 ]\n",
      "  [0.8986364  0.8866674  0.31295818 0.21526867]\n",
      "  [0.89814574 0.88618696 0.31288597 0.21739092]\n",
      "  [0.89747506 0.8856176  0.31272474 0.21916391]\n",
      "  [0.8966827  0.88499975 0.3124935  0.22055052]\n",
      "  [0.895844   0.88438416 0.3122276  0.22158219]\n",
      "  [0.89502835 0.88381374 0.31195948 0.22231229]\n",
      "  [0.89429265 0.8833189  0.3117128  0.22279572]\n",
      "  [0.89367694 0.8829175  0.31150174 0.22307982]\n",
      "  [0.89320594 0.88261783 0.31133258 0.22320256]\n",
      "  [0.89289105 0.88242006 0.31120616 0.22319318]\n",
      "  [0.89273334 0.8823198  0.31112    0.22307412]\n",
      "  [0.89272785 0.8823098  0.31107    0.22286274]\n",
      "  [0.89286447 0.88238156 0.3110511  0.22257243]\n",
      "  [0.89313084 0.8825259  0.31105876 0.22221424]\n",
      "  [0.89351386 0.8827342  0.3110885  0.22179721]\n",
      "  [0.894001   0.8829982  0.31113645 0.22132896]\n",
      "  [0.89457965 0.8833107  0.31119943 0.22081587]\n",
      "  [0.8952391  0.88366544 0.3112747  0.22026357]\n",
      "  [0.8959699  0.8840569  0.31136015 0.2196768 ]\n",
      "  [0.8967637  0.88448036 0.31145388 0.21905966]]]\n"
     ]
    }
   ],
   "source": [
    "# demonstrate prediction\n",
    "x_input = prepared_data_train[0].reshape((1, prepared_data_train.shape[1], prepared_data_train.shape[2]))\n",
    "yhat = dec_model.predict(x_input, verbose=0)\n",
    "print(yhat)"
   ]
  },
  {
   "cell_type": "code",
   "execution_count": 24,
   "metadata": {},
   "outputs": [
    {
     "data": {
      "text/plain": [
       "array([[0.89986348, 0.88514948, 0.30708322, 0.20280075],\n",
       "       [0.89916515, 0.88518691, 0.30708322, 0.20280266],\n",
       "       [0.89916277, 0.88518786, 0.30708322, 0.20280266],\n",
       "       [0.89915776, 0.88518858, 0.30708322, 0.20280266],\n",
       "       [0.89915705, 0.88518953, 0.30708322, 0.20280266],\n",
       "       [0.89915156, 0.88518953, 0.30708322, 0.20280266],\n",
       "       [0.89914918, 0.88518858, 0.30708322, 0.20280266],\n",
       "       [0.8991468 , 0.88518929, 0.30708322, 0.20280266],\n",
       "       [0.89913964, 0.88519073, 0.30708322, 0.20280266],\n",
       "       [0.89912081, 0.88519573, 0.30708322, 0.20280266],\n",
       "       [0.8991034 , 0.88519907, 0.30708322, 0.20280266],\n",
       "       [0.89907455, 0.88519716, 0.30708322, 0.20280266],\n",
       "       [0.89905715, 0.88519716, 0.30708322, 0.20280266],\n",
       "       [0.89901543, 0.88519621, 0.30708322, 0.20280266],\n",
       "       [0.89899421, 0.88519454, 0.30708322, 0.20280266],\n",
       "       [0.89897847, 0.88519406, 0.30708322, 0.20280266],\n",
       "       [0.89896393, 0.88519406, 0.30708322, 0.20280266],\n",
       "       [0.89894962, 0.88519406, 0.30708322, 0.20280266],\n",
       "       [0.89892507, 0.88519573, 0.30708322, 0.20280266],\n",
       "       [0.89890599, 0.88519597, 0.30708322, 0.20280266],\n",
       "       [0.89889097, 0.88519716, 0.30708322, 0.20280266],\n",
       "       [0.89887619, 0.88519883, 0.30708322, 0.20280266],\n",
       "       [0.89886189, 0.88519979, 0.30708322, 0.20280266],\n",
       "       [0.89884615, 0.88520026, 0.30708322, 0.20280266],\n",
       "       [0.89883161, 0.88520122, 0.30708322, 0.20280266],\n",
       "       [0.89878225, 0.88520336, 0.30708322, 0.20280266],\n",
       "       [0.89876604, 0.88520288, 0.30708322, 0.20280266],\n",
       "       [0.89873862, 0.88520312, 0.30708322, 0.20280266],\n",
       "       [0.89860439, 0.88519621, 0.30708322, 0.20280266],\n",
       "       [0.89858723, 0.88519621, 0.30708322, 0.20280266]])"
      ]
     },
     "execution_count": 24,
     "metadata": {},
     "output_type": "execute_result"
    }
   ],
   "source": [
    "prepared_data_train[0]"
   ]
  },
  {
   "cell_type": "code",
   "execution_count": 25,
   "metadata": {},
   "outputs": [],
   "source": [
    "yhat = dec_model.predict(prepared_data_train)"
   ]
  },
  {
   "cell_type": "markdown",
   "metadata": {},
   "source": [
    "### Defining a function to calculate the error for each trajectory"
   ]
  },
  {
   "cell_type": "code",
   "execution_count": 26,
   "metadata": {},
   "outputs": [],
   "source": [
    "def error_by_entry(y_real,y_pred):\n",
    "    errors = []\n",
    "    for real,pred in zip(y_real,y_pred):\n",
    "        acc = 0\n",
    "        for i,j in zip(real,pred):\n",
    "            for k,l in zip(i,j):\n",
    "                acc += abs(k-l)\n",
    "        errors.append(acc)\n",
    "    return errors"
   ]
  },
  {
   "cell_type": "code",
   "execution_count": 27,
   "metadata": {},
   "outputs": [],
   "source": [
    "errors = error_by_entry(prepared_data_train,yhat)"
   ]
  },
  {
   "cell_type": "code",
   "execution_count": 28,
   "metadata": {},
   "outputs": [],
   "source": [
    "errors = np.array(errors)"
   ]
  },
  {
   "cell_type": "code",
   "execution_count": 29,
   "metadata": {},
   "outputs": [
    {
     "data": {
      "text/plain": [
       "(0.0, 6.0)"
      ]
     },
     "execution_count": 29,
     "metadata": {},
     "output_type": "execute_result"
    },
    {
     "data": {
      "image/png": "[encoded data removed]",
      "text/plain": [
       "<Figure size 1280x720 with 1 Axes>"
      ]
     },
     "metadata": {
      "needs_background": "light"
     },
     "output_type": "display_data"
    }
   ],
   "source": [
    "plt.figure(figsize=(16,9), dpi=80)\n",
    "plt.title('Errors distribution', fontsize=16)\n",
    "sns.distplot(errors, color='blue', bins=50)\n",
    "plt.xlim([0.0, 6])"
   ]
  },
  {
   "cell_type": "markdown",
   "metadata": {},
   "source": [
    "### RAMSAC"
   ]
  },
  {
   "cell_type": "code",
   "execution_count": null,
   "metadata": {},
   "outputs": [],
   "source": []
  },
  {
   "cell_type": "code",
   "execution_count": 35,
   "metadata": {},
   "outputs": [
    {
     "name": "stdout",
     "output_type": "stream",
     "text": [
      "Epoch 1/10\n",
      "362/362 [==============================] - 18s 34ms/step - loss: 0.1987\n",
      "Epoch 2/10\n",
      "362/362 [==============================] - 12s 34ms/step - loss: 0.0104\n",
      "Epoch 3/10\n",
      "362/362 [==============================] - 12s 33ms/step - loss: 0.0028\n",
      "Epoch 4/10\n",
      "362/362 [==============================] - 13s 35ms/step - loss: 0.0011\n",
      "Epoch 5/10\n",
      "362/362 [==============================] - 11s 31ms/step - loss: 7.5047e-04\n",
      "Epoch 6/10\n",
      "362/362 [==============================] - 11s 29ms/step - loss: 6.0930e-04\n",
      "Epoch 7/10\n",
      "362/362 [==============================] - 11s 29ms/step - loss: 5.6926e-04\n",
      "Epoch 8/10\n",
      "362/362 [==============================] - 11s 29ms/step - loss: 5.2298e-04\n",
      "Epoch 9/10\n",
      "362/362 [==============================] - 11s 30ms/step - loss: 4.8457e-04\n",
      "Epoch 10/10\n",
      "362/362 [==============================] - 10s 29ms/step - loss: 4.4740e-04\n",
      "Epoch 1/10\n",
      "335/335 [==============================] - 14s 29ms/step - loss: 0.1936\n",
      "Epoch 2/10\n",
      "335/335 [==============================] - 10s 29ms/step - loss: 0.0111\n",
      "Epoch 3/10\n",
      "335/335 [==============================] - 10s 29ms/step - loss: 0.0046\n",
      "Epoch 4/10\n",
      "335/335 [==============================] - 11s 32ms/step - loss: 0.0012\n",
      "Epoch 5/10\n",
      "335/335 [==============================] - 12s 36ms/step - loss: 0.0011\n",
      "Epoch 6/10\n",
      "335/335 [==============================] - 12s 36ms/step - loss: 0.0011\n",
      "Epoch 7/10\n",
      "335/335 [==============================] - 10s 31ms/step - loss: 0.0011\n",
      "Epoch 8/10\n",
      "335/335 [==============================] - 10s 29ms/step - loss: 10.4097\n",
      "Epoch 9/10\n",
      "335/335 [==============================] - 10s 29ms/step - loss: 0.0020\n",
      "Epoch 10/10\n",
      "335/335 [==============================] - 9s 28ms/step - loss: 0.0013\n",
      "Epoch 1/10\n",
      "320/320 [==============================] - 14s 32ms/step - loss: 0.1797\n",
      "Epoch 2/10\n",
      "320/320 [==============================] - 12s 37ms/step - loss: 0.0110\n",
      "Epoch 3/10\n",
      "320/320 [==============================] - 11s 33ms/step - loss: 0.0979\n",
      "Epoch 4/10\n",
      "320/320 [==============================] - 10s 30ms/step - loss: 0.0015\n",
      "Epoch 5/10\n",
      "320/320 [==============================] - 10s 30ms/step - loss: 7.8741e-04\n",
      "Epoch 6/10\n",
      "320/320 [==============================] - 10s 31ms/step - loss: 7.5088e-04\n",
      "Epoch 7/10\n",
      "320/320 [==============================] - 10s 30ms/step - loss: 7.5650e-04\n",
      "Epoch 8/10\n",
      "320/320 [==============================] - 9s 29ms/step - loss: 7.2790e-04\n",
      "Epoch 9/10\n",
      "320/320 [==============================] - 10s 30ms/step - loss: 7.3101e-04\n",
      "Epoch 10/10\n",
      "320/320 [==============================] - 10s 31ms/step - loss: 7.2073e-04\n"
     ]
    }
   ],
   "source": [
    "iterations = []\n",
    "entries = [prepared_data_train]\n",
    "entries_err = [errors]\n",
    "max_iter = 3\n",
    "models = []\n",
    "for i in range(max_iter):\n",
    "    treshold = entries_err[i].mean() + 2 * entries_err[i].std()\n",
    "    new_entries = []\n",
    "    ite = []\n",
    "    for j,k in zip(entries_err[i], entries[i]):\n",
    "        if (j < treshold):\n",
    "            new_entries.append(k)\n",
    "        else:\n",
    "            ite.append(k)\n",
    "    new_ent = np.array(new_entries)\n",
    "    it = np.array(ite)\n",
    "    iterations.append(it)\n",
    "    entries.append(new_ent)\n",
    "    with tensorflow.device(\"/cpu:0\"):\n",
    "        model = Sequential()\n",
    "        enc_model = encoder(model)\n",
    "        dec_model = decoder(enc_model)\n",
    "        dec_model.compile(optimizer='adam', loss='mse')\n",
    "        # fit model\n",
    "        dec_model.fit(new_ent, new_ent, epochs=10, verbose=1)\n",
    "        models.append(dec_model)\n",
    "    new_yhat = dec_model.predict(new_ent)\n",
    "    new_err = error_by_entry(new_ent,new_yhat)\n",
    "    entries_err.append(np.array(new_err))\n",
    "    "
   ]
  },
  {
   "cell_type": "code",
   "execution_count": 31,
   "metadata": {},
   "outputs": [
    {
     "name": "stdout",
     "output_type": "stream",
     "text": [
      "(26138, 30, 4) (1399, 30, 4)\n"
     ]
    }
   ],
   "source": [
    "print(new_ent.shape, it.shape)"
   ]
  },
  {
   "cell_type": "code",
   "execution_count": 37,
   "metadata": {},
   "outputs": [
    {
     "data": {
      "text/plain": [
       "<matplotlib.axes._subplots.AxesSubplot at 0x7fd89374bd90>"
      ]
     },
     "execution_count": 37,
     "metadata": {},
     "output_type": "execute_result"
    },
    {
     "data": {
      "image/png": "[encoded data removed]",
      "text/plain": [
       "<Figure size 1280x720 with 1 Axes>"
      ]
     },
     "metadata": {
      "needs_background": "light"
     },
     "output_type": "display_data"
    }
   ],
   "source": [
    "yhat = models[2].predict(prepared_data_test)\n",
    "errors = np.array(error_by_entry(prepared_data_test,yhat))\n",
    "plt.figure(figsize=(16,9), dpi=80)\n",
    "plt.title('Errors distribution', fontsize=16)\n",
    "sns.distplot(errors, color='blue', bins=50)\n",
    "#plt.xlim([0.0, 6])"
   ]
  },
  {
   "cell_type": "markdown",
   "metadata": {},
   "source": [
    "### Finding anomalies using mean and standard deviation method"
   ]
  },
  {
   "cell_type": "code",
   "execution_count": 62,
   "metadata": {},
   "outputs": [
    {
     "data": {
      "text/plain": [
       "29.4207893467342"
      ]
     },
     "execution_count": 62,
     "metadata": {},
     "output_type": "execute_result"
    }
   ],
   "source": [
    "errors.mean()"
   ]
  },
  {
   "cell_type": "code",
   "execution_count": 56,
   "metadata": {},
   "outputs": [],
   "source": [
    "thresh = errors.mean() + 2 * errors.std()"
   ]
  },
  {
   "cell_type": "code",
   "execution_count": 57,
   "metadata": {},
   "outputs": [
    {
     "data": {
      "text/plain": [
       "105.4680770529388"
      ]
     },
     "execution_count": 57,
     "metadata": {},
     "output_type": "execute_result"
    }
   ],
   "source": [
    "thresh"
   ]
  },
  {
   "cell_type": "code",
   "execution_count": 58,
   "metadata": {},
   "outputs": [],
   "source": [
    "def anomalies(errors,thresh):\n",
    "    ret = []\n",
    "    for i in range(0,errors.shape[0]):\n",
    "        if(errors[i] > thresh):\n",
    "            ret.append(i)\n",
    "    return(ret)"
   ]
  },
  {
   "cell_type": "code",
   "execution_count": 59,
   "metadata": {},
   "outputs": [],
   "source": [
    "ret = anomalies(errors, thresh)"
   ]
  },
  {
   "cell_type": "code",
   "execution_count": 60,
   "metadata": {
    "scrolled": true
   },
   "outputs": [
    {
     "name": "stdout",
     "output_type": "stream",
     "text": [
      "(11798,) 374\n"
     ]
    }
   ],
   "source": [
    "print(errors.shape,len(ret))"
   ]
  },
  {
   "cell_type": "code",
   "execution_count": 75,
   "metadata": {},
   "outputs": [],
   "source": [
    "data_taxi = np.loadtxt('preprocessed_Data_walk.csv',delimiter=\",\")\n",
    "prepared_data_taxi = []\n",
    "for i in range(0,data_taxi.shape[0],30):\n",
    "    prepared_data_taxi.append(data_taxi[i:i+30])\n",
    "prepared_data_taxi = np.array(prepared_data_taxi)"
   ]
  },
  {
   "cell_type": "code",
   "execution_count": 76,
   "metadata": {},
   "outputs": [
    {
     "data": {
      "text/plain": [
       "(51882, 30, 4)"
      ]
     },
     "execution_count": 76,
     "metadata": {},
     "output_type": "execute_result"
    }
   ],
   "source": [
    "prepared_data_taxi.shape"
   ]
  },
  {
   "cell_type": "code",
   "execution_count": 77,
   "metadata": {},
   "outputs": [
    {
     "data": {
      "text/plain": [
       "<matplotlib.axes._subplots.AxesSubplot at 0x7fd8767cc520>"
      ]
     },
     "execution_count": 77,
     "metadata": {},
     "output_type": "execute_result"
    },
    {
     "data": {
      "image/png": "[encoded data removed]",
      "text/plain": [
       "<Figure size 1280x720 with 1 Axes>"
      ]
     },
     "metadata": {
      "needs_background": "light"
     },
     "output_type": "display_data"
    }
   ],
   "source": [
    "yhat_taxi = models[2].predict(prepared_data_taxi)\n",
    "errors_taxi = np.array(error_by_entry(prepared_data_taxi,yhat_taxi))\n",
    "plt.figure(figsize=(16,9), dpi=80)\n",
    "plt.title('Errors distribution', fontsize=16)\n",
    "sns.distplot(errors_taxi, color='blue', bins=50)"
   ]
  },
  {
   "cell_type": "code",
   "execution_count": 78,
   "metadata": {},
   "outputs": [
    {
     "data": {
      "text/plain": [
       "13.77434086621593"
      ]
     },
     "execution_count": 78,
     "metadata": {},
     "output_type": "execute_result"
    }
   ],
   "source": [
    "errors_taxi.mean()"
   ]
  },
  {
   "cell_type": "code",
   "execution_count": 79,
   "metadata": {},
   "outputs": [
    {
     "name": "stdout",
     "output_type": "stream",
     "text": [
      "(51882,) 1623\n"
     ]
    }
   ],
   "source": [
    "ret = anomalies(errors_taxi, thresh)\n",
    "print(errors_taxi.shape,len(ret))"
   ]
  },
  {
   "cell_type": "code",
   "execution_count": null,
   "metadata": {},
   "outputs": [],
   "source": []
  }
 ],
 "metadata": {
  "kernelspec": {
   "display_name": "Python 3",
   "language": "python",
   "name": "python3"
  },
  "language_info": {
   "codemirror_mode": {
    "name": "ipython",
    "version": 3
   },
   "file_extension": ".py",
   "mimetype": "text/x-python",
   "name": "python",
   "nbconvert_exporter": "python",
   "pygments_lexer": "ipython3",
   "version": "3.8.3"
  }
 },
 "nbformat": 4,
 "nbformat_minor": 4
}
