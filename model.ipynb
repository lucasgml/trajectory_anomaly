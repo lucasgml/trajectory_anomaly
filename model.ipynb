{
 "cells": [
  {
   "cell_type": "markdown",
   "metadata": {},
   "source": [
    "### Leitura dos dados"
   ]
  },
  {
   "cell_type": "code",
   "execution_count": 1,
   "metadata": {},
   "outputs": [],
   "source": [
    "import numpy as np"
   ]
  },
  {
   "cell_type": "code",
   "execution_count": 2,
   "metadata": {},
   "outputs": [],
   "source": [
    "data = np.loadtxt('preprocessed_Data.csv',delimiter=\",\")"
   ]
  },
  {
   "cell_type": "code",
   "execution_count": 3,
   "metadata": {},
   "outputs": [],
   "source": [
    "prepared_data = []\n",
    "for i in range(0,data.shape[0],30):\n",
    "    prepared_data.append(data[i:i+30])\n",
    "prepared_data = np.array(prepared_data)"
   ]
  },
  {
   "cell_type": "code",
   "execution_count": 4,
   "metadata": {},
   "outputs": [
    {
     "data": {
      "text/plain": [
       "(285211, 30, 4)"
      ]
     },
     "execution_count": 4,
     "metadata": {},
     "output_type": "execute_result"
    }
   ],
   "source": [
    "prepared_data.shape"
   ]
  },
  {
   "cell_type": "markdown",
   "metadata": {},
   "source": [
    "## Construcao do modelo"
   ]
  },
  {
   "cell_type": "code",
   "execution_count": 5,
   "metadata": {},
   "outputs": [],
   "source": [
    "import tensorflow\n",
    "from tensorflow.keras.models import Sequential\n",
    "from tensorflow.keras.layers import LSTM\n",
    "from tensorflow.keras.layers import Dense\n",
    "from tensorflow.keras.layers import TimeDistributed"
   ]
  },
  {
   "cell_type": "code",
   "execution_count": 6,
   "metadata": {},
   "outputs": [],
   "source": [
    "def encoder(model):\n",
    "    model.add(LSTM(15, activation='relu', return_sequences=True, input_shape=(prepared_data.shape[1], prepared_data.shape[2])))\n",
    "    model.add(LSTM(10, activation='relu', return_sequences=True))\n",
    "    model.add(LSTM(5, activation='relu', return_sequences=True))\n",
    "    return model\n",
    "\n",
    "def decoder(model):\n",
    "    model.add(LSTM(5, activation='relu', return_sequences=True))\n",
    "    model.add(LSTM(10, activation='relu', return_sequences=True))\n",
    "    model.add(LSTM(15, activation='relu', return_sequences=True))\n",
    "    model.add(TimeDistributed(Dense(4)))\n",
    "    return model"
   ]
  },
  {
   "cell_type": "markdown",
   "metadata": {},
   "source": [
    "### Execução do Modelo"
   ]
  },
  {
   "cell_type": "code",
   "execution_count": 7,
   "metadata": {},
   "outputs": [
    {
     "name": "stdout",
     "output_type": "stream",
     "text": [
      "Train on 2000 samples\n",
      "Epoch 1/10\n",
      "2000/2000 [==============================] - 7s 4ms/sample - loss: 0.1117\n",
      "Epoch 2/10\n",
      "2000/2000 [==============================] - 2s 1ms/sample - loss: 0.0310\n",
      "Epoch 3/10\n",
      "2000/2000 [==============================] - 2s 1ms/sample - loss: 0.0114\n",
      "Epoch 4/10\n",
      "2000/2000 [==============================] - 2s 1ms/sample - loss: 0.0061\n",
      "Epoch 5/10\n",
      "2000/2000 [==============================] - 2s 1ms/sample - loss: 0.0044\n",
      "Epoch 6/10\n",
      "2000/2000 [==============================] - 2s 1ms/sample - loss: 0.0037\n",
      "Epoch 7/10\n",
      "2000/2000 [==============================] - 2s 1ms/sample - loss: 0.0034\n",
      "Epoch 8/10\n",
      "2000/2000 [==============================] - 3s 1ms/sample - loss: 0.0032\n",
      "Epoch 9/10\n",
      "2000/2000 [==============================] - 2s 1ms/sample - loss: 0.0030\n",
      "Epoch 10/10\n",
      "2000/2000 [==============================] - 2s 1ms/sample - loss: 0.0029\n"
     ]
    }
   ],
   "source": [
    "with tensorflow.device(\"/cpu:0\"):\n",
    "    model = Sequential()\n",
    "    enc_model = encoder(model)\n",
    "    dec_model = decoder(enc_model)\n",
    "    dec_model.compile(optimizer='SGD', loss='mse')\n",
    "    # fit model\n",
    "    dec_model.fit(prepared_data[:2000], prepared_data[:2000], epochs=10, verbose=1)"
   ]
  },
  {
   "cell_type": "markdown",
   "metadata": {},
   "source": [
    "### Evaluation"
   ]
  },
  {
   "cell_type": "code",
   "execution_count": 8,
   "metadata": {},
   "outputs": [
    {
     "name": "stdout",
     "output_type": "stream",
     "text": [
      "[[[-0.02001473  0.47954226  0.067664    0.26846582]\n",
      "  [ 0.00303602  0.54693985  0.10568883  0.3005962 ]\n",
      "  [ 0.01998659  0.59969974  0.13681224  0.325618  ]\n",
      "  [ 0.03241149  0.6408509   0.16204418  0.34510726]\n",
      "  [ 0.04148334  0.67284954  0.18233563  0.36029157]\n",
      "  [ 0.04807492  0.6976657   0.19854093  0.37212637]\n",
      "  [ 0.05291086  0.7168497   0.21146266  0.38131517]\n",
      "  [ 0.05646664  0.73164696  0.22173142  0.38843763]\n",
      "  [ 0.05907453  0.743044    0.22985925  0.39395714]\n",
      "  [ 0.06098168  0.751813    0.23627092  0.39823425]\n",
      "  [ 0.0623716   0.75855494  0.24131472  0.40154907]\n",
      "  [ 0.06338044  0.7637364   0.24527347  0.4041188 ]\n",
      "  [ 0.06411827  0.76771176  0.24838205  0.4061235 ]\n",
      "  [ 0.06465364  0.7707621   0.25081742  0.4076866 ]\n",
      "  [ 0.06503701  0.7731046   0.252721    0.40890282]\n",
      "  [ 0.06530744  0.77490646  0.2542069   0.40984732]\n",
      "  [ 0.06549473  0.7762953   0.2553659   0.41057947]\n",
      "  [ 0.06562138  0.77736855  0.25627008  0.41114604]\n",
      "  [ 0.06570433  0.7782007   0.25697616  0.4115838 ]\n",
      "  [ 0.06575623  0.7788482   0.25752836  0.41192144]\n",
      "  [ 0.06578644  0.7793542   0.25796133  0.41218147]\n",
      "  [ 0.06580343  0.77975047  0.25830308  0.4123835 ]\n",
      "  [ 0.06581292  0.7800612   0.25857478  0.41254234]\n",
      "  [ 0.06581832  0.78030574  0.25879097  0.412668  ]\n",
      "  [ 0.06582664  0.7804997   0.25896055  0.4127708 ]\n",
      "  [ 0.06583776  0.78065526  0.2590943   0.4128558 ]\n",
      "  [ 0.06585102  0.7807816   0.25920045  0.4129267 ]\n",
      "  [ 0.06586574  0.780885    0.2592852   0.41298628]\n",
      "  [ 0.06588121  0.7809704   0.25935325  0.41303673]\n",
      "  [ 0.06589686  0.7810414   0.25940818  0.41307962]]]\n"
     ]
    }
   ],
   "source": [
    "# demonstrate prediction\n",
    "x_input = prepared_data[0].reshape((1, prepared_data.shape[1], prepared_data.shape[2]))\n",
    "yhat = dec_model.predict(x_input, verbose=0)\n",
    "print(yhat)"
   ]
  },
  {
   "cell_type": "code",
   "execution_count": 9,
   "metadata": {},
   "outputs": [
    {
     "data": {
      "text/plain": [
       "array([[0.0570538 , 0.75224483, 0.23634978, 0.31873703],\n",
       "       [0.05705375, 0.75224531, 0.23634978, 0.31873703],\n",
       "       [0.05705376, 0.75224483, 0.23634978, 0.31873703],\n",
       "       [0.05705376, 0.75224411, 0.23634978, 0.31873703],\n",
       "       [0.05705367, 0.75224173, 0.23634978, 0.31873703],\n",
       "       [0.05705357, 0.75223744, 0.23635691, 0.31873703],\n",
       "       [0.05705355, 0.75223267, 0.23635691, 0.31873703],\n",
       "       [0.05705343, 0.7522279 , 0.23637831, 0.31873703],\n",
       "       [0.05705337, 0.75222385, 0.23640686, 0.31873703],\n",
       "       [0.05705355, 0.75221956, 0.23644254, 0.31873703],\n",
       "       [0.05705345, 0.7522167 , 0.23647822, 0.31873703],\n",
       "       [0.05705349, 0.75221312, 0.2365139 , 0.31873703],\n",
       "       [0.05705343, 0.75220954, 0.23654959, 0.31873703],\n",
       "       [0.05705336, 0.75220621, 0.23658526, 0.31873703],\n",
       "       [0.05705334, 0.75220311, 0.23662809, 0.31873703],\n",
       "       [0.05705331, 0.75219905, 0.23666376, 0.31873703],\n",
       "       [0.05705334, 0.75219643, 0.23669945, 0.31873703],\n",
       "       [0.05705346, 0.75219238, 0.23673512, 0.31873703],\n",
       "       [0.05705345, 0.75218856, 0.23677081, 0.31873703],\n",
       "       [0.05705337, 0.75218379, 0.23680648, 0.31873703],\n",
       "       [0.05705328, 0.75217927, 0.23683503, 0.31873703],\n",
       "       [0.05705335, 0.7521776 , 0.23686358, 0.31873703],\n",
       "       [0.05705328, 0.75217402, 0.23689926, 0.31873703],\n",
       "       [0.05705323, 0.75217021, 0.23693494, 0.31873703],\n",
       "       [0.05705308, 0.75216687, 0.23697062, 0.31873703],\n",
       "       [0.05705323, 0.75216305, 0.23700631, 0.31873703],\n",
       "       [0.05705322, 0.752159  , 0.23704198, 0.31873703],\n",
       "       [0.05705328, 0.7521559 , 0.23708479, 0.31873703],\n",
       "       [0.05705358, 0.7521683 , 0.23364517, 0.31873703],\n",
       "       [0.05705366, 0.75216448, 0.23367371, 0.31873703]])"
      ]
     },
     "execution_count": 9,
     "metadata": {},
     "output_type": "execute_result"
    }
   ],
   "source": [
    "prepared_data[0]"
   ]
  },
  {
   "cell_type": "code",
   "execution_count": null,
   "metadata": {},
   "outputs": [],
   "source": [
    "yhat = dec_model.predict(prepared_data[:2000])"
   ]
  },
  {
   "cell_type": "code",
   "execution_count": null,
   "metadata": {},
   "outputs": [],
   "source": [
    "def error_by_entry(y_real,y_pred):\n",
    "    errors = []\n",
    "    for real,pred in zip(y_real,y_pred):\n",
    "        acc = 0\n",
    "        for i,j in zip(real,pred):\n",
    "            for k,l in zip(i,j):\n",
    "                acc += abs(k-l)\n",
    "        errors.append(acc)\n",
    "    return errors"
   ]
  },
  {
   "cell_type": "code",
   "execution_count": null,
   "metadata": {},
   "outputs": [],
   "source": [
    "errors = error_by_entry(prepared_data[:2000],yhat[:2000])"
   ]
  },
  {
   "cell_type": "code",
   "execution_count": null,
   "metadata": {},
   "outputs": [],
   "source": [
    "errors = np.array(errors)"
   ]
  },
  {
   "cell_type": "code",
   "execution_count": null,
   "metadata": {},
   "outputs": [],
   "source": [
    "def anomalias(errors,thresh):\n",
    "    std = errors.std()\n",
    "    media = errors.mean()\n",
    "    ret = []\n",
    "    for i in range(0,errors.shape[0]):\n",
    "        if(errors[i] > media + thresh*std):\n",
    "            ret.append(i)\n",
    "    return(ret)"
   ]
  },
  {
   "cell_type": "code",
   "execution_count": 11,
   "metadata": {},
   "outputs": [],
   "source": [
    "### outtliers\n",
    "er = np.array([2,5,16,17,17,17,6,17,18,16,17,18,16,17])"
   ]
  },
  {
   "cell_type": "code",
   "execution_count": 12,
   "metadata": {},
   "outputs": [
    {
     "data": {
      "text/plain": [
       "14.214285714285714"
      ]
     },
     "execution_count": 12,
     "metadata": {},
     "output_type": "execute_result"
    }
   ],
   "source": [
    "er.mean()"
   ]
  },
  {
   "cell_type": "code",
   "execution_count": 13,
   "metadata": {},
   "outputs": [
    {
     "data": {
      "text/plain": [
       "5.253278859484827"
      ]
     },
     "execution_count": 13,
     "metadata": {},
     "output_type": "execute_result"
    }
   ],
   "source": [
    "er.std()"
   ]
  },
  {
   "cell_type": "code",
   "execution_count": 14,
   "metadata": {},
   "outputs": [
    {
     "data": {
      "text/plain": [
       "24.720843433255368"
      ]
     },
     "execution_count": 14,
     "metadata": {},
     "output_type": "execute_result"
    }
   ],
   "source": [
    "er.mean() + 2*er.std()"
   ]
  },
  {
   "cell_type": "code",
   "execution_count": 15,
   "metadata": {},
   "outputs": [
    {
     "data": {
      "text/plain": [
       "3.707727995316059"
      ]
     },
     "execution_count": 15,
     "metadata": {},
     "output_type": "execute_result"
    }
   ],
   "source": [
    "er.mean() - 2*er.std()"
   ]
  },
  {
   "cell_type": "code",
   "execution_count": null,
   "metadata": {},
   "outputs": [],
   "source": []
  },
  {
   "cell_type": "code",
   "execution_count": null,
   "metadata": {},
   "outputs": [],
   "source": []
  },
  {
   "cell_type": "code",
   "execution_count": null,
   "metadata": {},
   "outputs": [],
   "source": []
  },
  {
   "cell_type": "code",
   "execution_count": null,
   "metadata": {},
   "outputs": [],
   "source": []
  },
  {
   "cell_type": "code",
   "execution_count": null,
   "metadata": {},
   "outputs": [],
   "source": []
  },
  {
   "cell_type": "code",
   "execution_count": null,
   "metadata": {},
   "outputs": [],
   "source": [
    "errors.reshape(-1,1).T.shape"
   ]
  },
  {
   "cell_type": "code",
   "execution_count": null,
   "metadata": {},
   "outputs": [],
   "source": [
    "import matplotlib.pyplot as plt"
   ]
  },
  {
   "cell_type": "code",
   "execution_count": null,
   "metadata": {},
   "outputs": [],
   "source": [
    "plt.hist(errors.reshape(-1,1))\n",
    "plt.show()"
   ]
  },
  {
   "cell_type": "code",
   "execution_count": null,
   "metadata": {},
   "outputs": [],
   "source": []
  }
 ],
 "metadata": {
  "kernelspec": {
   "display_name": "Python 3",
   "language": "python",
   "name": "python3"
  },
  "language_info": {
   "codemirror_mode": {
    "name": "ipython",
    "version": 3
   },
   "file_extension": ".py",
   "mimetype": "text/x-python",
   "name": "python",
   "nbconvert_exporter": "python",
   "pygments_lexer": "ipython3",
   "version": "3.7.0"
  }
 },
 "nbformat": 4,
 "nbformat_minor": 4
}
